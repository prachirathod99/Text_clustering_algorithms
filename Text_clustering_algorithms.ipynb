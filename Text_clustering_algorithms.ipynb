{
  "nbformat": 4,
  "nbformat_minor": 0,
  "metadata": {
    "colab": {
      "name": "Text_clustering_algorithms.ipynb",
      "provenance": [],
      "authorship_tag": "ABX9TyN5GRLNBRdfFaBe86pfPckH",
      "include_colab_link": true
    },
    "kernelspec": {
      "name": "python3",
      "display_name": "Python 3"
    },
    "language_info": {
      "name": "python"
    }
  },
  "cells": [
    {
      "cell_type": "markdown",
      "metadata": {
        "id": "view-in-github",
        "colab_type": "text"
      },
      "source": [
        "<a href=\"https://colab.research.google.com/github/prachirathod99/Text_clustering_algorithms/blob/main/Text_clustering_algorithms.ipynb\" target=\"_parent\"><img src=\"https://colab.research.google.com/assets/colab-badge.svg\" alt=\"Open In Colab\"/></a>"
      ]
    },
    {
      "cell_type": "markdown",
      "metadata": {
        "id": "oGQoVSRAKcv-"
      },
      "source": [
        "Word2vec"
      ]
    },
    {
      "cell_type": "code",
      "metadata": {
        "colab": {
          "base_uri": "https://localhost:8080/"
        },
        "id": "8FXMkDyjKGmS",
        "outputId": "9e5d14a9-00c9-4763-fcde-a7e6a2ad75fa"
      },
      "source": [
        "#importing dependent libraries\n",
        "import re\n",
        "import nltk\n",
        "import pandas as pd\n",
        "from nltk.corpus import stopwords\n",
        "assert all([nltk.download('stopwords'), nltk.download('punkt')])==True\n",
        "from sklearn import cluster\n",
        "from sklearn import metrics\n",
        "import numpy as np\n",
        "import io\n"
      ],
      "execution_count": 7,
      "outputs": [
        {
          "output_type": "stream",
          "text": [
            "[nltk_data] Downloading package stopwords to /root/nltk_data...\n",
            "[nltk_data]   Package stopwords is already up-to-date!\n",
            "[nltk_data] Downloading package punkt to /root/nltk_data...\n",
            "[nltk_data]   Package punkt is already up-to-date!\n"
          ],
          "name": "stdout"
        }
      ]
    },
    {
      "cell_type": "code",
      "metadata": {
        "colab": {
          "resources": {
            "http://localhost:8080/nbextensions/google.colab/files.js": {
              "data": "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",
              "ok": true,
              "headers": [
                [
                  "content-type",
                  "application/javascript"
                ]
              ],
              "status": 200,
              "status_text": ""
            }
          },
          "base_uri": "https://localhost:8080/",
          "height": 72
        },
        "id": "x4cgwVYBKh06",
        "outputId": "76ef0377-43d7-4c78-aa6e-969ec2ea382a"
      },
      "source": [
        "#loading the file from computer for google colab\n",
        "from google.colab import files\n",
        "uploaded = files.upload()"
      ],
      "execution_count": 5,
      "outputs": [
        {
          "output_type": "display_data",
          "data": {
            "text/html": [
              "\n",
              "     <input type=\"file\" id=\"files-493f52da-5edd-485a-91ee-cafff5d85f14\" name=\"files[]\" multiple disabled\n",
              "        style=\"border:none\" />\n",
              "     <output id=\"result-493f52da-5edd-485a-91ee-cafff5d85f14\">\n",
              "      Upload widget is only available when the cell has been executed in the\n",
              "      current browser session. Please rerun this cell to enable.\n",
              "      </output>\n",
              "      <script src=\"/nbextensions/google.colab/files.js\"></script> "
            ],
            "text/plain": [
              "<IPython.core.display.HTML object>"
            ]
          },
          "metadata": {
            "tags": []
          }
        },
        {
          "output_type": "stream",
          "text": [
            "Saving combined_data_webex_teams_zoom.csv to combined_data_webex_teams_zoom.csv\n"
          ],
          "name": "stdout"
        }
      ]
    },
    {
      "cell_type": "code",
      "metadata": {
        "colab": {
          "base_uri": "https://localhost:8080/"
        },
        "id": "k90U7SKeKx_D",
        "outputId": "a6294153-92c2-4006-9396-9f2d3d435a87"
      },
      "source": [
        "uploaded"
      ],
      "execution_count": 6,
      "outputs": [
        {
          "output_type": "execute_result",
          "data": {
            "text/plain": [
              "{'combined_data_webex_teams_zoom.csv': b'key,value,TF-IDF,key_plus_value,value_plus_key\\r\\nfile,be unpacked,0.182538,file be unpacked,be unpacked file\\r\\naudio boards,\"14.4-kbit/s version, 28.8-kbit/s version\",0.145608,\"audio boards 14.4-kbit/s version, 28.8-kbit/s version\",\"14.4-kbit/s version, 28.8-kbit/s version audio boards\"\\r\\npasswords,\"the end user, the intended purpose\",0.139616,\"passwords the end user, the intended purpose\",\"the end user, the intended purpose passwords\"\\r\\nwhiteboarding,\"desktop sharing, file transfers\",0.138964,\"whiteboarding desktop sharing, file transfers\",\"desktop sharing, file transfers whiteboarding\"\\r\\nconferences,up to 15 video participants,0.131616,conferences up to 15 video participants,up to 15 video participants conferences\\r\\nexpiration,of ten covered by password,0.128222,expiration of ten covered by password,of ten covered by password expiration\\r\\napplication sharing,\"shared whiteboard markup, file transfer\",0.124034,\"application sharing shared whiteboard markup, file transfer\",\"shared whiteboard markup, file transfer application sharing\"\\r\\nscores players,ten displayed onscreen,0.115718,scores players ten displayed onscreen,ten displayed onscreen scores players\\r\\nspecial gateways,VoIP and video conference clients,0.115481,special gateways VoIP and video conference clients,VoIP and video conference clients special gateways\\r\\nThe maximum imprisonment,\"violations, the Computer Fraud and Abuse Act\",0.113217,\"The maximum imprisonment violations, the Computer Fraud and Abuse Act\",\"violations, the Computer Fraud and Abuse Act The maximum imprisonment\"\\r\\nvideo,\"A broadband speed, 2 Mbit/s\",0.11129,\"video A broadband speed, 2 Mbit/s\",\"A broadband speed, 2 Mbit/s video\"\\r\\npassword login,time zone or IP address verification,0.109024,password login time zone or IP address verification,time zone or IP address verification password login\\r\\npassword,of ten via privilege,0.103554,password of ten via privilege,of ten via privilege password\\r\\nThe web based platform hosts,\"up to 5,000 participants\",0.103296,\"The web based platform hosts up to 5,000 participants\",\"up to 5,000 participants The web based platform hosts\"\\r\\nmeetings,\"up to 100 devices, a 40-minute time restriction\",0.102293,\"meetings up to 100 devices, a 40-minute time restriction\",\"up to 100 devices, a 40-minute time restriction meetings\"\\r\\nVideo conferencing,\"application, Desktop sharing features\",0.09978,\"Video conferencing application, Desktop sharing features\",\"application, Desktop sharing features Video conferencing\"\\r\\nsame amount,\"synchronization, real time communication, meetings\",0.099632,\"same amount synchronization, real time communication, meetings\",\"synchronization, real time communication, meetings same amount\"\\r\\nmeetings,CTS-3000 - Room system,0.098651,meetings CTS-3000 - Room system,CTS-3000 - Room system meetings\\r\\nBBC website,IP address check,0.09858,BBC website IP address check,IP address check BBC website\\r\\nMeet,\"200 million daily uses, Zoom\",0.097204,\"Meet 200 million daily uses, Zoom\",\"200 million daily uses, Zoom Meet\"\\r\\nsolutions,use of one - time passwords,0.096007,solutions use of one - time passwords,use of one - time passwords solutions\\r\\nstreaming HD video,\"around 1.5 GB, data\",0.095482,\"streaming HD video around 1.5 GB, data\",\"around 1.5 GB, data streaming HD video\"\\r\\nPermissions users,contents of a file or folder,0.093931,Permissions users contents of a file or folder,contents of a file or folder Permissions users\\r\\nthe file size limit,\"50 MB, 1 MB, 1 million bytes, 100 MB\",0.09385,\"the file size limit 50 MB, 1 MB, 1 million bytes, 100 MB\",\"50 MB, 1 MB, 1 million bytes, 100 MB the file size limit\"\\r\\ncryptographic keys,\"Passwords, disk encryption, Wi-Fi security, high rate guessing\",0.093419,\"cryptographic keys Passwords, disk encryption, Wi-Fi security, high rate guessing\",\"Passwords, disk encryption, Wi-Fi security, high rate guessing cryptographic keys\"\\r\\nShared file access,\"file synchronization, other information synchronization\",0.091394,\"Shared file access file synchronization, other information synchronization\",\"file synchronization, other information synchronization Shared file access\"\\r\\none time period,one-time password access,0.090881,one time period one-time password access,one-time password access one time period\\r\\nvideo conference,\"up to 100 participants, a 40-minute time limit, more than two participants\",0.090845,\"video conference up to 100 participants, a 40-minute time limit, more than two participants\",\"up to 100 participants, a 40-minute time limit, more than two participants video conference\"\\r\\ngroup video,up to 50 people,0.090119,group video up to 50 people,up to 50 people group video\\r\\ntraditional landline audio,up to 125 participants,0.089048,traditional landline audio up to 125 participants,up to 125 participants traditional landline audio\\r\\nThe system,\"dual 1080p/60fps live video content, HD Audio, H.264\",0.088706,\"The system dual 1080p/60fps live video content, HD Audio, H.264\",\"dual 1080p/60fps live video content, HD Audio, H.264 The system\"\\r\\nparticipants,\"Desktop sharing, a Windows screen\",0.086205,\"participants Desktop sharing, a Windows screen\",\"Desktop sharing, a Windows screen participants\"\\r\\nWindows Server,\"60%, web servers, Linux, 40%,\",0.085794,\"Windows Server 60%, web servers, Linux, 40%,\",\"60%, web servers, Linux, 40%, Windows Server\"\\r\\nusers,\"10,000 participants\",0.083359,\"users 10,000 participants\",\"10,000 participants users\"\\r\\nthe user\\'s mouse,\"a chat interface, desktop sharing\",0.081887,\"the user\\'s mouse a chat interface, desktop sharing\",\"a chat interface, desktop sharing the user\\'s mouse\"\\r\\nconference calls,screen sharing 25 people a time,0.080934,conference calls screen sharing 25 people a time,screen sharing 25 people a time conference calls\\r\\nVoice,\"packets, IP networks, fixed maximum capacity\",0.080917,\"Voice packets, IP networks, fixed maximum capacity\",\"packets, IP networks, fixed maximum capacity Voice\"\\r\\nthe password length,\"much more security, , one character, the password\",0.078405,\"the password length much more security, , one character, the password\",\"much more security, , one character, the password the password length\"\\r\\nUse,\"up to 100 participants, a 40-minute time limit, more than two participants\",0.077045,\"Use up to 100 participants, a 40-minute time limit, more than two participants\",\"up to 100 participants, a 40-minute time limit, more than two participants Use\"\\r\\npasswords,time attacker,0.075893,passwords time attacker,time attacker passwords\\r\\nthe live streams,\"extended amounts, time\",0.073051,\"the live streams extended amounts, time\",\"extended amounts, time the live streams\"\\r\\nthe Coloured Book protocols,\"GEC 4000 series switches, up to 8 Mbit/s\",0.072597,\"the Coloured Book protocols GEC 4000 series switches, up to 8 Mbit/s\",\"GEC 4000 series switches, up to 8 Mbit/s the Coloured Book protocols\"\\r\\nusers,\"March, Microsoft, Microsoft Teams\",0.072083,\"users March, Microsoft, Microsoft Teams\",\"March, Microsoft, Microsoft Teams users\"\\r\\nContents,\"200,000 customer, organizations\",0.070494,\"Contents 200,000 customer, organizations\",\"200,000 customer, organizations Contents\"\\r\\nplatform,Webex interactive network,0.070189,platform Webex interactive network,Webex interactive network platform\\r\\na shared password,another person citation,0.069072,a shared password another person citation,another person citation a shared password\\r\\nlive webcast streams,\"up to 100 participants, 3,000 viewers\",0.067739,\"live webcast streams up to 100 participants, 3,000 viewers\",\"up to 100 participants, 3,000 viewers live webcast streams\"\\r\\ndesktop operating system,around 76.45%,0.066251,desktop operating system around 76.45%,around 76.45% desktop operating system\\r\\ncalling,number of 50 call participants,0.065251,calling number of 50 call participants,number of 50 call participants calling\\r\\nUsers,passwords of symbol,0.065239,Users passwords of symbol,passwords of symbol Users\\r\\nstorage media,\"at least 3 copies, 2 different types\",0.064351,\"storage media at least 3 copies, 2 different types\",\"at least 3 copies, 2 different types storage media\"\\r\\naudio artifacts,up to 30%,0.063692,audio artifacts up to 30%,up to 30% audio artifacts\\r\\na limit,\"5 GB, the total ZIP file size limit, 20 GB, up to 10,000 files\",0.06342,\"a limit 5 GB, the total ZIP file size limit, 20 GB, up to 10,000 files\",\"5 GB, the total ZIP file size limit, 20 GB, up to 10,000 files a limit\"\\r\\nusers,\"Zoom, 400,000 users\",0.063033,\"users Zoom, 400,000 users\",\"Zoom, 400,000 users users\"\\r\\nsecurity chief,Zoom advisor,0.062993,security chief Zoom advisor,Zoom advisor security chief\\r\\nreal-time transmission,\"real-time, , voice, video\",0.062217,\"real-time transmission real-time, , voice, video\",\"real-time, , voice, video real-time transmission\"\\r\\nTwitter,users a 140-character limit,0.060136,Twitter users a 140-character limit,users a 140-character limit Twitter\\r\\na webcam,\"the Internet, voice, a microphone, video, , instant messaging\",0.058998,\"a webcam the Internet, voice, a microphone, video, , instant messaging\",\"the Internet, voice, a microphone, video, , instant messaging a webcam\"\\r\\naddition users,\"passwords bookmarks, history, cookies\",0.058169,\"addition users passwords bookmarks, history, cookies\",\"passwords bookmarks, history, cookies addition users\"\\r\\nPowerPoint,\"about 1 million copies, 63 percent.97\",0.058,\"PowerPoint about 1 million copies, 63 percent.97\",\"about 1 million copies, 63 percent.97 PowerPoint\"\\r\\njeweled styli,\"Audio response, 8,000 Hz\",0.056072,\"jeweled styli Audio response, 8,000 Hz\",\"Audio response, 8,000 Hz jeweled styli\"\\r\\nRooms,limit of 50 participant,0.055928,Rooms limit of 50 participant,limit of 50 participant Rooms\\r\\nnationalwide access,low cost,0.053149,nationalwide access low cost,low cost nationalwide access\\r\\nZoom users,\"up to 1,000 attendees,\",0.050372,\"Zoom users up to 1,000 attendees,\",\"up to 1,000 attendees, Zoom users\"\\r\\nchat,up to 10 users,0.050227,chat up to 10 users,up to 10 users chat\\r\\nControl system,disambiguation,0.047832,Control system disambiguation,disambiguation Control system\\r\\nuser messages,\"multiple paths, any two points\",0.045351,\"user messages multiple paths, any two points\",\"multiple paths, any two points user messages\"\\r\\nmusic,\"3 1\\xe2\\x81\\x842 minutes, a 10-inch 78 rpm record,\",0.043514,\"music 3 1\\xe2\\x81\\x842 minutes, a 10-inch 78 rpm record,\",\"3 1\\xe2\\x81\\x842 minutes, a 10-inch 78 rpm record, music\"\\r\\nthe total playing time,\"up to 30 minutes, side, about 22 minutes\",0.043411,\"the total playing time up to 30 minutes, side, about 22 minutes\",\"up to 30 minutes, side, about 22 minutes the total playing time\"\\r\\nno single point,Internet traffic,0.040857,no single point Internet traffic,Internet traffic no single point\\r\\naudible frequencies,about 20 Hz,0.040726,audible frequencies about 20 Hz,about 20 Hz audible frequencies\\r\\npasswords,biometric identifiers,0.038787,passwords biometric identifiers,biometric identifiers passwords\\r\\nrecorder,lack of field shifting support,0.038178,recorder lack of field shifting support,lack of field shifting support recorder\\r\\nthe size,closed captioning text,0.037802,the size closed captioning text,closed captioning text the size\\r\\nLinks,5000 Limit,0.036699,Links 5000 Limit,5000 Limit Links\\r\\nideas,\"all team efforts, team method,\",0.035812,\"ideas all team efforts, team method,\",\"all team efforts, team method, ideas\"\\r\\nphones,The 180 model,0.035414,phones The 180 model,The 180 model phones\\r\\nA DNS zone,\"administrative choices, the zone manager\",0.031307,\"A DNS zone administrative choices, the zone manager\",\"administrative choices, the zone manager A DNS zone\"\\r\\npaid subscriptions,\"365 Home, , 15 GB, 5 GB, , 100 GB, 200 GB plans, month 50 GB plan\",0.03014,\"paid subscriptions 365 Home, , 15 GB, 5 GB, , 100 GB, 200 GB plans, month 50 GB plan\",\"365 Home, , 15 GB, 5 GB, , 100 GB, 200 GB plans, month 50 GB plan paid subscriptions\"\\r\\nthe calculation,\"500 kbit/s,3 hours, 3,000 viewers\",0.029857,\"the calculation 500 kbit/s,3 hours, 3,000 viewers\",\"500 kbit/s,3 hours, 3,000 viewers the calculation\"\\r\\ncapacity,nationwide network 10 Gbit/s,0.029484,capacity nationwide network 10 Gbit/s,nationwide network 10 Gbit/s capacity\\r\\nrecord wear,Distortion,0.02858,record wear Distortion,Distortion record wear\\r\\nspecial roll film holders,\"generally 120/220 size,\",0.025603,\"special roll film holders generally 120/220 size,\",\"generally 120/220 size, special roll film holders\"\\r\\na fine-grained automatic response suppression mechanism,Message-ID,0.023861,a fine-grained automatic response suppression mechanism Message-ID,Message-ID a fine-grained automatic response suppression mechanism\\r\\nthe width,10 to 15 minutes,0.022811,the width 10 to 15 minutes,10 to 15 minutes the width\\r\\nvoice response,\"hathe UK, large corporations\",0.02279,\"voice response hathe UK, large corporations\",\"hathe UK, large corporations voice response\"\\r\\nfree storage,25 GB free storage,0.020888,free storage 25 GB free storage,25 GB free storage free storage\\r\\nPolicies Zoom,limitation of 40 minutes,0.018229,Policies Zoom limitation of 40 minutes,limitation of 40 minutes Policies Zoom\\r\\na bass turnover,\"400 Hz, a 10,000 Hz rolloff, \\xe2\\x88\\x9212 dB.\",0.016601,\"a bass turnover 400 Hz, a 10,000 Hz rolloff, \\xe2\\x88\\x9212 dB.\",\"400 Hz, a 10,000 Hz rolloff, \\xe2\\x88\\x9212 dB. a bass turnover\"\\r\\nfrequencies,\"about 250hz ,microphone signal, the recording head\",0.016559,\"frequencies about 250hz ,microphone signal, the recording head\",\"about 250hz ,microphone signal, the recording head frequencies\"\\r\\ntheir accounts,forums members,0.015971,their accounts forums members,forums members their accounts\\r\\nThe record diameters,\"nominally 300 mm, 250 mm, 175 mm\",0.014835,\"The record diameters nominally 300 mm, 250 mm, 175 mm\",\"nominally 300 mm, 250 mm, 175 mm The record diameters\"\\r\\ncloud seeding,\"23 users,large-scale recovery\",0.009075,\"cloud seeding 23 users,large-scale recovery\",\"23 users,large-scale recovery cloud seeding\"\\r\\nheadphone volumes,their normal loudness,0.009075,headphone volumes their normal loudness,their normal loudness headphone volumes\\r\\nvoice,\"low-value, high-volume\",0.005716,\"voice low-value, high-volume\",\"low-value, high-volume voice\"\\r\\nMicrosoft Classroom,\"Office 365 Education, Office\",0.005127,\"Microsoft Classroom Office 365 Education, Office\",\"Office 365 Education, Office Microsoft Classroom\"\\r\\nsample,\"1000 or more keystrokes,\",0.000164599,\"sample 1000 or more keystrokes,\",\"1000 or more keystrokes, sample\"\\r\\nthe study,\"a factor, , entrepreneurship\",0.00016329,\"the study a factor, , entrepreneurship\",\"a factor, , entrepreneurship the study\"\\r\\nsensor,the LED-Backlit,0.00012344,sensor the LED-Backlit,the LED-Backlit sensor\\r\\nIDC,80 million units,0.000111659,IDC 80 million units,80 million units IDC\\r\\nhosted versions,\"Cisco Solution, Cisco Unified Mobility,Cisco Webex Meeting Center.\",0.036522314,\"hosted versions Cisco Solution, Cisco Unified Mobility,Cisco Webex Meeting Center.\",\"Cisco Solution, Cisco Unified Mobility,Cisco Webex Meeting Center. hosted versions\"\\r\\nthe file size limit,\"50 MB, 1 MB, 1 million bytes, 100 MB, file\",0.031188737,\"the file size limit 50 MB, 1 MB, 1 million bytes, 100 MB, file\",\"50 MB, 1 MB, 1 million bytes, 100 MB, file the file size limit\"\\r\\nremote control,\"unequaled video quality, video relay services\",0.030208085,\"remote control unequaled video quality, video relay services\",\"unequaled video quality, video relay services remote control\"\\r\\nWebEx Meeting Center,a 1000-person meeting capacity,0.02219839,WebEx Meeting Center a 1000-person meeting capacity,a 1000-person meeting capacity WebEx Meeting Center\\r\\na limit,\"5 GB, the total ZIP file size limit, 20 GB, up to 10,000 files\",0.022146257,\"a limit 5 GB, the total ZIP file size limit, 20 GB, up to 10,000 files\",\"5 GB, the total ZIP file size limit, 20 GB, up to 10,000 files a limit\"\\r\\nvideo conference,\"up to 100 participants, a 40-minute time limit, more than two participants\",0.019832697,\"video conference up to 100 participants, a 40-minute time limit, more than two participants\",\"up to 100 participants, a 40-minute time limit, more than two participants video conference\"\\r\\nVideo conferencing,\"application, Desktop sharing features\",0.01859328,\"Video conferencing application, Desktop sharing features\",\"application, Desktop sharing features Video conferencing\"\\r\\nwhiteboarding,\"desktop sharing, file transfers\",0.016858908,\"whiteboarding desktop sharing, file transfers\",\"desktop sharing, file transfers whiteboarding\"\\r\\nThe system,\"dual 1080p/60fps live video content, HD Audio, H.264\",0.015690365,\"The system dual 1080p/60fps live video content, HD Audio, H.264\",\"dual 1080p/60fps live video content, HD Audio, H.264 The system\"\\r\\nShared file access,\"file synchronization, other information synchronization\",0.014982565,\"Shared file access file synchronization, other information synchronization\",\"file synchronization, other information synchronization Shared file access\"\\r\\npasswords,\"the end user, the intended purpose\",0.014617688,\"passwords the end user, the intended purpose\",\"the end user, the intended purpose passwords\"\\r\\npassword,of ten via privilege,0.014439583,password of ten via privilege,of ten via privilege password\\r\\nsame amount,\"synchronization, real time communication, meetings\",0.014392829,\"same amount synchronization, real time communication, meetings\",\"synchronization, real time communication, meetings same amount\"\\r\\none time period,one-time password access,0.013981661,one time period one-time password access,one-time password access one time period\\r\\nthe password length,\"much more security, , one character, the password\",0.013150374,\"the password length much more security, , one character, the password\",\"much more security, , one character, the password the password length\"\\r\\ntime limit,\"Cisco Webex, 50 minutes, 24 hours, registered clients\",0.013031898,\"time limit Cisco Webex, 50 minutes, 24 hours, registered clients\",\"Cisco Webex, 50 minutes, 24 hours, registered clients time limit\"\\r\\ncryptographic keys,\"Passwords, disk encryption, Wi-Fi security, high rate guessing\",0.012880292,\"cryptographic keys Passwords, disk encryption, Wi-Fi security, high rate guessing\",\"Passwords, disk encryption, Wi-Fi security, high rate guessing cryptographic keys\"\\r\\nthe user\\'s mouse,\"a chat interface, desktop sharing\",0.012598017,\"the user\\'s mouse a chat interface, desktop sharing\",\"a chat interface, desktop sharing the user\\'s mouse\"\\r\\npassword login,time zone or IP address verification,0.012426714,password login time zone or IP address verification,time zone or IP address verification password login\\r\\nVoice,\"packets, IP networks, fixed maximum capacity\",0.012228964,\"Voice packets, IP networks, fixed maximum capacity\",\"packets, IP networks, fixed maximum capacity Voice\"\\r\\nsolutions,use of one - time passwords,0.011378971,solutions use of one - time passwords,use of one - time passwords solutions\\r\\nthe Coloured Book protocols,\"GEC 4000 series switches, up to 8 Mbit/s\",0.011168773,\"the Coloured Book protocols GEC 4000 series switches, up to 8 Mbit/s\",\"GEC 4000 series switches, up to 8 Mbit/s the Coloured Book protocols\"\\r\\nstorage media,\"at least 3 copies, 2 different types\",0.011133609,\"storage media at least 3 copies, 2 different types\",\"at least 3 copies, 2 different types storage media\"\\r\\na webcam,\"the Internet, voice, a microphone, video, , instant messaging\",0.010562621,\"a webcam the Internet, voice, a microphone, video, , instant messaging\",\"the Internet, voice, a microphone, video, , instant messaging a webcam\"\\r\\nparticipants,\"Desktop sharing, a Windows screen\",0.009964434,\"participants Desktop sharing, a Windows screen\",\"Desktop sharing, a Windows screen participants\"\\r\\nexpiration,of ten covered by password,0.009863258,expiration of ten covered by password,of ten covered by password expiration\\r\\nplatforms learning remote,Cisco Webex,0.009451373,platforms learning remote Cisco Webex,Cisco Webex platforms learning remote\\r\\nreal-time transmission,\"real-time, , voice, video\",0.008733536,\"real-time transmission real-time, , voice, video\",\"real-time, , voice, video real-time transmission\"\\r\\na shared password,another person citation,0.008694933,a shared password another person citation,another person citation a shared password\\r\\nPermissions users,contents of a file or folder,0.008587084,Permissions users contents of a file or folder,contents of a file or folder Permissions users\\r\\npaid subscriptions,\"365 Home, , 15 GB, 5 GB, , 100 GB, 200 GB plans, month 50 GB plan\",0.008114618,\"paid subscriptions 365 Home, , 15 GB, 5 GB, , 100 GB, 200 GB plans, month 50 GB plan\",\"365 Home, , 15 GB, 5 GB, , 100 GB, 200 GB plans, month 50 GB plan paid subscriptions\"\\r\\nWebex Meetings,Webex Teams,0.008025564,Webex Meetings Webex Teams,Webex Teams Webex Meetings\\r\\nnetworks chat compatible,Cisco WebEx,0.007854823,networks chat compatible Cisco WebEx,Cisco WebEx networks chat compatible\\r\\nsecurity tokens,key logging attack,0.007726834,security tokens key logging attack,key logging attack security tokens\\r\\npasswords,\"numerous accounts, encrypted form\",0.007028605,\"passwords numerous accounts, encrypted form\",\"numerous accounts, encrypted form passwords\"\\r\\ncase files,kind of flag in the file,0.007020692,case files kind of flag in the file,kind of flag in the file case files\\r\\ndisks files they,form of non - volatile,0.007020692,disks files they form of non - volatile,form of non - volatile disks files they\\r\\nbackward compatibility,smaller file sizes,0.007020692,backward compatibility smaller file sizes,smaller file sizes backward compatibility\\r\\nlimitation,\"40 minutes, a group call, more than two people\",0.006664307,\"limitation 40 minutes, a group call, more than two people\",\"40 minutes, a group call, more than two people limitation\"\\r\\nSome users,more or less random passwords,0.006235337,Some users more or less random passwords,more or less random passwords Some users\\r\\nlimit singers,limit time of \\xe2\\x80\\x8b3 1\\xe2\\x81\\x842 minutes,0.006229677,limit singers limit time of \\xe2\\x80\\x8b3 1\\xe2\\x81\\x842 minutes,limit time of \\xe2\\x80\\x8b3 1\\xe2\\x81\\x842 minutes limit singers\\r\\nCisco,\"OpenDNS, Webex\",0.006007311,\"Cisco OpenDNS, Webex\",\"OpenDNS, Webex Cisco\"\\r\\na single host,\"up to 100 participants, the 250-caller limit, users169, the 25-participant limit\",0.005569785,\"a single host up to 100 participants, the 250-caller limit, users169, the 25-participant limit\",\"up to 100 participants, the 250-caller limit, users169, the 25-participant limit a single host\"\\r\\naudio frequency range,\"roughly 20 to 20,000 Hz\",0.00553059,\"audio frequency range roughly 20 to 20,000 Hz\",\"roughly 20 to 20,000 Hz audio frequency range\"\\r\\nShared access,time synchronization,0.005372022,Shared access time synchronization,time synchronization Shared access\\r\\ntape,a scheduled time,0.004966497,tape a scheduled time,a scheduled time tape\\r\\nthe noise level,\"1,000 Hz, audio frequencies, 10,000 Hz, the delicate sibilant sounds\",0.004710099,\"the noise level 1,000 Hz, audio frequencies, 10,000 Hz, the delicate sibilant sounds\",\"1,000 Hz, audio frequencies, 10,000 Hz, the delicate sibilant sounds the noise level\"\\r\\nthe password,\"Standard cryptographic hashes, the Secure Hash Algorithm\",0.004625744,\"the password Standard cryptographic hashes, the Secure Hash Algorithm\",\"Standard cryptographic hashes, the Secure Hash Algorithm the password\"\\r\\npasswords,risk of a security breach,0.004625744,passwords risk of a security breach,risk of a security breach passwords\\r\\nrequesting,\"the very least a username, an alias, password, email, validation\",0.004475407,\"requesting the very least a username, an alias, password, email, validation\",\"the very least a username, an alias, password, email, validation requesting\"\\r\\npassword,number sign,0.004457819,password number sign,number sign password\\r\\nthe presenter,desktop sharing/application sharing,0.004436862,the presenter desktop sharing/application sharing,desktop sharing/application sharing the presenter\\r\\na 5-byte routing header,\"voice streams, 48-byte chunks\",0.004395783,\"a 5-byte routing header voice streams, 48-byte chunks\",\"voice streams, 48-byte chunks a 5-byte routing header\"\\r\\na mathematical algorithm,\"new password, a challenge, a random number\",0.004212379,\"a mathematical algorithm new password, a challenge, a random number\",\"new password, a challenge, a random number a mathematical algorithm\"\\r\\nbrowser,\"encryption, all users8, Noise, audio filter\",0.003964198,\"browser encryption, all users8, Noise, audio filter\",\"encryption, all users8, Noise, audio filter browser\"\\r\\nmute people,host number 5,0.003867449,mute people host number 5,host number 5 mute people\\r\\nthe services,small screens,0.003559517,the services small screens,small screens the services\\r\\noffline attacks,multiple user accounts,0.003526605,offline attacks multiple user accounts,multiple user accounts offline attacks\\r\\nmaximum number,\"WebEx founder Subrah Iyar, former Cisco SVP\",0.003316105,\"maximum number WebEx founder Subrah Iyar, former Cisco SVP\",\"WebEx founder Subrah Iyar, former Cisco SVP maximum number\"\\r\\nWebEx,public of fering in July 2000.2,0.003242707,WebEx public of fering in July 2000.2,public of fering in July 2000.2 WebEx\\r\\nconfidential data,\"encryption layer , passwords, banking information\",0.003146494,\"confidential data encryption layer , passwords, banking information\",\"encryption layer , passwords, banking information confidential data\"\\r\\ntraditional landline audio,up to 125 participants,0.002885636,traditional landline audio up to 125 participants,up to 125 participants traditional landline audio\\r\\nRooms,limit of 50 participant,0.002885636,Rooms limit of 50 participant,limit of 50 participant Rooms\\r\\ngroup video,up to 50 people,0.002723035,group video up to 50 people,up to 50 people group video\\r\\nthe size,closed captioning text,0.002463123,the size closed captioning text,closed captioning text the size\\r\\nThe record diameters,\"nominally 300 mm, 250 mm, 175 mm\",0.002282342,\"The record diameters nominally 300 mm, 250 mm, 175 mm\",\"nominally 300 mm, 250 mm, 175 mm The record diameters\"\\r\\nvoice response,\"hathe UK, large corporations\",0.002280548,\"voice response hathe UK, large corporations\",\"hathe UK, large corporations voice response\"\\r\\nplatform,Webex interactive network,0.002162429,platform Webex interactive network,Webex interactive network platform\\r\\nmusic,\"3 1\\xe2\\x81\\x842 minutes, a 10-inch 78 rpm record,\",0.001883533,\"music 3 1\\xe2\\x81\\x842 minutes, a 10-inch 78 rpm record,\",\"3 1\\xe2\\x81\\x842 minutes, a 10-inch 78 rpm record, music\"\\r\\nrecorder,lack of field shifting support,0.001837551,recorder lack of field shifting support,lack of field shifting support recorder\\r\\na fine-grained automatic response suppression mechanism,Message-ID,0.001835462,a fine-grained automatic response suppression mechanism Message-ID,Message-ID a fine-grained automatic response suppression mechanism\\r\\naddition users,\"passwords bookmarks, history, cookies\",0.001693397,\"addition users passwords bookmarks, history, cookies\",\"passwords bookmarks, history, cookies addition users\"\\r\\naudible frequencies,about 20 Hz,0.001566393,audible frequencies about 20 Hz,about 20 Hz audible frequencies\\r\\nconversational gestures,user\\'s own voice,0.001448388,conversational gestures user\\'s own voice,user\\'s own voice conversational gestures\\r\\nWebEx,Cisco Systems 1995,0.001368465,WebEx Cisco Systems 1995,Cisco Systems 1995 WebEx\\r\\na gateway,IP systems,0.001368465,a gateway IP systems,IP systems a gateway\\r\\n\"Popular \"\"normal\"\" image formats\",4\\xc3\\x975 camera,0.001267578,\"Popular \"\"normal\"\" image formats 4\\xc3\\x975 camera\",\"4\\xc3\\x975 camera Popular \"\"normal\"\" image formats\"\\r\\nvoicemail messages,\"record conversations, compromise,\",0.001228543,\"voicemail messages record conversations, compromise,\",\"record conversations, compromise, voicemail messages\"\\r\\naudio,\"webcasting, (20,000 plus) audiences\",0.001166225,\"audio webcasting, (20,000 plus) audiences\",\"webcasting, (20,000 plus) audiences audio\"\\r\\nMembers,\"group message,\",0.001099223,\"Members group message,\",\"group message, Members\"\\r\\nTwitter,users a 140-character limit,0.001099223,Twitter users a 140-character limit,users a 140-character limit Twitter\\r\\nLinks,5000 Limit,0.001099223,Links 5000 Limit,5000 Limit Links\\r\\nfree storage,25 GB free storage,0.001080271,free storage 25 GB free storage,25 GB free storage free storage\\r\\nPolicies Zoom,limitation of 40 minutes,0.00078431,Policies Zoom limitation of 40 minutes,limitation of 40 minutes Policies Zoom\\r\\na bass turnover,\"400 Hz, a 10,000 Hz rolloff, \\xe2\\x88\\x9212 dB.\",0.000638483,\"a bass turnover 400 Hz, a 10,000 Hz rolloff, \\xe2\\x88\\x9212 dB.\",\"400 Hz, a 10,000 Hz rolloff, \\xe2\\x88\\x9212 dB. a bass turnover\"\\r\\nno single point,Internet traffic,0.000485703,no single point Internet traffic,Internet traffic no single point\\r\\ncloud seeding,\"23 users,large-scale recovery\",0.000349057,\"cloud seeding 23 users,large-scale recovery\",\"23 users,large-scale recovery cloud seeding\"\\r\\nheadphone volumes,their normal loudness,0.000349057,headphone volumes their normal loudness,their normal loudness headphone volumes\\r\\njeweled styli,\"Audio response, 8,000 Hz\",0.000349057,\"jeweled styli Audio response, 8,000 Hz\",\"Audio response, 8,000 Hz jeweled styli\"\\r\\npasswords,Multi-factor authentication schemes,0.000234684,passwords Multi-factor authentication schemes,Multi-factor authentication schemes passwords\\r\\na one-time password,time-synchronized OTP,0.000234299,a one-time password time-synchronized OTP,time-synchronized OTP a one-time password\\r\\nUsers,passwords of symbol,0.00022334,Users passwords of symbol,passwords of symbol Users\\r\\npasswords,biometric identifiers,0.000208769,passwords biometric identifiers,biometric identifiers passwords\\r\\npasswords,time attacker,0.000164599,passwords time attacker,time attacker passwords\\r\\nfile,be unpacked,0.000162229,file be unpacked,be unpacked file\\r\\nvoice,\"low-value, high-volume\",0.00015344,\"voice low-value, high-volume\",\"low-value, high-volume voice\"\\r\\nthe low-end limit,30 kHz gentle roll-off,0.000147659,the low-end limit 30 kHz gentle roll-off,30 kHz gentle roll-off the low-end limit\\r\\nThe product,\"a 14.4-kbit/s version, 28.8-kbit/s, version\",0.000137769,\"The product a 14.4-kbit/s version, 28.8-kbit/s, version\",\"a 14.4-kbit/s version, 28.8-kbit/s, version The product\"\\r\\nPOS,STM16 - STM64,0.000137656,POS STM16 - STM64,STM16 - STM64 POS\\r\\nthe increased storage,at least 12 months,0.000127658,the increased storage at least 12 months,at least 12 months the increased storage\\r\\ndisks files,volatile,0.182641,disks files volatile,volatile disks files\\r\\ncase files,kind of flag in the file,0.182538,case files kind of flag in the file,kind of flag in the file case files\\r\\na gateway,IP systems,0.150247,a gateway IP systems,IP systems a gateway\\r\\nMicrosoft Classroom,\"Office 365 Education, Office\",0.145608,\"Microsoft Classroom Office 365 Education, Office\",\"Office 365 Education, Office Microsoft Classroom\"\\r\\nMeetings,Microsoft Teams,0.140262,Meetings Microsoft Teams,Microsoft Teams Meetings\\r\\npasswords,\"the end user, the intended purpose\",0.139616,\"passwords the end user, the intended purpose\",\"the end user, the intended purpose passwords\"\\r\\nwhiteboarding,\"desktop sharing, file transfers\",0.138964,\"whiteboarding desktop sharing, file transfers\",\"desktop sharing, file transfers whiteboarding\"\\r\\nconferences,up to 15 video participants,0.131616,conferences up to 15 video participants,up to 15 video participants conferences\\r\\nexpiration,of ten covered by password,0.128222,expiration of ten covered by password,of ten covered by password expiration\\r\\ncap,1 TB = 1000 billion bytes,0.12795,cap 1 TB = 1000 billion bytes,1 TB = 1000 billion bytes cap\\r\\nspecial gateways,VoIP and video conference clients,0.115481,special gateways VoIP and video conference clients,VoIP and video conference clients special gateways\\r\\naccess,Microsoft 365 App,0.115153,access Microsoft 365 App,Microsoft 365 App access\\r\\npasswords,\"numerous accounts, encrypted form\",0.110765,\"passwords numerous accounts, encrypted form\",\"numerous accounts, encrypted form passwords\"\\r\\nremote control,\"unequaled video quality, video relay services\",0.108234,\"remote control unequaled video quality, video relay services\",\"unequaled video quality, video relay services remote control\"\\r\\nhigh aggregate capacity,\"up to 1.6 Tbit/s, a high 40 Gbit/s bitrate\",0.105966,\"high aggregate capacity up to 1.6 Tbit/s, a high 40 Gbit/s bitrate\",\"up to 1.6 Tbit/s, a high 40 Gbit/s bitrate high aggregate capacity\"\\r\\nthe file size limit,\"50 MB, 1 MB, 1 million bytes, 100 MB, file\",0.104936,\"the file size limit 50 MB, 1 MB, 1 million bytes, 100 MB, file\",\"50 MB, 1 MB, 1 million bytes, 100 MB, file the file size limit\"\\r\\nmaximum number,\"400,000 users\",0.104381,\"maximum number 400,000 users\",\"400,000 users maximum number\"\\r\\npassword,of ten via privilege,0.103554,password of ten via privilege,of ten via privilege password\\r\\nmeetings,\"up to 100 devices, a 40-minute time restriction\",0.102293,\"meetings up to 100 devices, a 40-minute time restriction\",\"up to 100 devices, a 40-minute time restriction meetings\"\\r\\nsecurity tokens,key logging attack,0.100449,security tokens key logging attack,key logging attack security tokens\\r\\nVideo conferencing,\"application, Desktop sharing features\",0.09978,\"Video conferencing application, Desktop sharing features\",\"application, Desktop sharing features Video conferencing\"\\r\\nsame amount,\"synchronization, real time communication, meetings\",0.099632,\"same amount synchronization, real time communication, meetings\",\"synchronization, real time communication, meetings same amount\"\\r\\nmeetings,CTS-3000 - Room system,0.098651,meetings CTS-3000 - Room system,CTS-3000 - Room system meetings\\r\\naccess,\"Microsoft 365 Personal, formerly Office 365 Personal\",0.096363,\"access Microsoft 365 Personal, formerly Office 365 Personal\",\"Microsoft 365 Personal, formerly Office 365 Personal access\"\\r\\nsolutions,use of one - time passwords,0.096007,solutions use of one - time passwords,use of one - time passwords solutions\\r\\nbackward compatibility,smaller file sizes,0.094127,backward compatibility smaller file sizes,smaller file sizes backward compatibility\\r\\nPermissions users,contents of a file or folder,0.093931,Permissions users contents of a file or folder,contents of a file or folder Permissions users\\r\\nthe file size limit,\"50 MB, 1 MB, 1 million bytes, 100 MB\",0.09385,\"the file size limit 50 MB, 1 MB, 1 million bytes, 100 MB\",\"50 MB, 1 MB, 1 million bytes, 100 MB the file size limit\"\\r\\ncryptographic keys,\"Passwords, disk encryption, Wi-Fi security, high rate guessing\",0.093419,\"cryptographic keys Passwords, disk encryption, Wi-Fi security, high rate guessing\",\"Passwords, disk encryption, Wi-Fi security, high rate guessing cryptographic keys\"\\r\\nDolby Noise Reduction,the Dolby 301 unit,0.092663,Dolby Noise Reduction the Dolby 301 unit,the Dolby 301 unit Dolby Noise Reduction\\r\\nsizes screen,at least 140 millimetres,0.092547,sizes screen at least 140 millimetres,at least 140 millimetres sizes screen\\r\\nShared file access,\"file synchronization, other information synchronization\",0.091394,\"Shared file access file synchronization, other information synchronization\",\"file synchronization, other information synchronization Shared file access\"\\r\\none time period,one-time password access,0.090881,one time period one-time password access,one-time password access one time period\\r\\nvideo conference,\"up to 100 participants, a 40-minute time limit, more than two participants\",0.090845,\"video conference up to 100 participants, a 40-minute time limit, more than two participants\",\"up to 100 participants, a 40-minute time limit, more than two participants video conference\"\\r\\nThe system,\"dual 1080p/60fps live video content, HD Audio, H.264\",0.088706,\"The system dual 1080p/60fps live video content, HD Audio, H.264\",\"dual 1080p/60fps live video content, HD Audio, H.264 The system\"\\r\\nparticipants,\"Desktop sharing, a Windows screen\",0.086205,\"participants Desktop sharing, a Windows screen\",\"Desktop sharing, a Windows screen participants\"\\r\\nWindows Server,\"60%, web servers, Linux, 40%,\",0.085794,\"Windows Server 60%, web servers, Linux, 40%,\",\"60%, web servers, Linux, 40%, Windows Server\"\\r\\nusers,\"10,000 participants\",0.083359,\"users 10,000 participants\",\"10,000 participants users\"\\r\\nthe user\\'s mouse,\"a chat interface, desktop sharing\",0.081887,\"the user\\'s mouse a chat interface, desktop sharing\",\"a chat interface, desktop sharing the user\\'s mouse\"\\r\\nVoice,\"packets, IP networks, fixed maximum capacity\",0.080917,\"Voice packets, IP networks, fixed maximum capacity\",\"packets, IP networks, fixed maximum capacity Voice\"\\r\\nthe password length,\"much more security, , one character, the password\",0.078405,\"the password length much more security, , one character, the password\",\"much more security, , one character, the password the password length\"\\r\\nnetworks chat compatible,Cisco WebEx,0.072611,networks chat compatible Cisco WebEx,Cisco WebEx networks chat compatible\\r\\nthe Coloured Book protocols,\"GEC 4000 series switches, up to 8 Mbit/s\",0.072597,\"the Coloured Book protocols GEC 4000 series switches, up to 8 Mbit/s\",\"GEC 4000 series switches, up to 8 Mbit/s the Coloured Book protocols\"\\r\\nusers,\"March, Microsoft, Microsoft Teams\",0.072083,\"users March, Microsoft, Microsoft Teams\",\"March, Microsoft, Microsoft Teams users\"\\r\\nContents,\"200,000 customer, organizations\",0.070494,\"Contents 200,000 customer, organizations\",\"200,000 customer, organizations Contents\"\\r\\nplatform,Webex interactive network,0.070189,platform Webex interactive network,Webex interactive network platform\\r\\na shared password,another person citation,0.069072,a shared password another person citation,another person citation a shared password\\r\\na mathematical algorithm,\"new password, a challenge, a random number\",0.068651,\"a mathematical algorithm new password, a challenge, a random number\",\"new password, a challenge, a random number a mathematical algorithm\"\\r\\naudio,\"webcasting, (20,000 plus) audiences\",0.066696,\"audio webcasting, (20,000 plus) audiences\",\"webcasting, (20,000 plus) audiences audio\"\\r\\ndesktop operating system,around 76.45%,0.066251,desktop operating system around 76.45%,around 76.45% desktop operating system\\r\\ntime,30 cm diameter flexible plastic disc,0.065781,time 30 cm diameter flexible plastic disc,30 cm diameter flexible plastic disc time\\r\\ntime limit,\"Cisco Webex, 50 minutes, 24 hours, registered clients\",0.064804,\"time limit Cisco Webex, 50 minutes, 24 hours, registered clients\",\"Cisco Webex, 50 minutes, 24 hours, registered clients time limit\"\\r\\nstorage media,\"at least 3 copies, 2 different types\",0.064351,\"storage media at least 3 copies, 2 different types\",\"at least 3 copies, 2 different types storage media\"\\r\\na limit,\"5 GB, the total ZIP file size limit, 20 GB, up to 10,000 files\",0.06342,\"a limit 5 GB, the total ZIP file size limit, 20 GB, up to 10,000 files\",\"5 GB, the total ZIP file size limit, 20 GB, up to 10,000 files a limit\"\\r\\nmaximum attendance,only 120 attendees,0.063405,maximum attendance only 120 attendees,only 120 attendees maximum attendance\\r\\nsecurity chief,Zoom advisor,0.062993,security chief Zoom advisor,Zoom advisor security chief\\r\\nreal-time transmission,\"real-time, , voice, video\",0.062217,\"real-time transmission real-time, , voice, video\",\"real-time, , voice, video real-time transmission\"\\r\\ne-mail,Microsoft 365 Business Basic,0.060801,e-mail Microsoft 365 Business Basic,Microsoft 365 Business Basic e-mail\\r\\nTwitter,users a 140-character limit,0.060136,Twitter users a 140-character limit,users a 140-character limit Twitter\\r\\na webcam,\"the Internet, voice, a microphone, video, , instant messaging\",0.058998,\"a webcam the Internet, voice, a microphone, video, , instant messaging\",\"the Internet, voice, a microphone, video, , instant messaging a webcam\"\\r\\nbrowser,\"encryption, all users8, Noise, audio filter\",0.058379,\"browser encryption, all users8, Noise, audio filter\",\"encryption, all users8, Noise, audio filter browser\"\\r\\naddition users,\"passwords bookmarks, history, cookies\",0.058169,\"addition users passwords bookmarks, history, cookies\",\"passwords bookmarks, history, cookies addition users\"\\r\\nmute people,host number 5,0.057412,mute people host number 5,host number 5 mute people\\r\\nthe services,small screens,0.057196,the services small screens,small screens the services\\r\\njeweled styli,\"Audio response, 8,000 Hz\",0.056072,\"jeweled styli Audio response, 8,000 Hz\",\"Audio response, 8,000 Hz jeweled styli\"\\r\\nRooms,limit of 50 participant,0.055928,Rooms limit of 50 participant,limit of 50 participant Rooms\\r\\noffline attacks,multiple user accounts,0.052314,offline attacks multiple user accounts,multiple user accounts offline attacks\\r\\nGoogle Hangouts,ore than 150 people,0.049655,Google Hangouts ore than 150 people,ore than 150 people Google Hangouts\\r\\nmusic,\"3 1\\xe2\\x81\\x842 minutes, a 10-inch 78 rpm record,\",0.043514,\"music 3 1\\xe2\\x81\\x842 minutes, a 10-inch 78 rpm record,\",\"3 1\\xe2\\x81\\x842 minutes, a 10-inch 78 rpm record, music\"\\r\\nconversational gestures,user\\'s own voice,0.043117,conversational gestures user\\'s own voice,user\\'s own voice conversational gestures\\r\\nno single point,Internet traffic,0.040857,no single point Internet traffic,Internet traffic no single point\\r\\naudible frequencies,about 20 Hz,0.040726,audible frequencies about 20 Hz,about 20 Hz audible frequencies\\r\\ndata rates,\"48 kHz sampling frequency, 20-bit word length, 32 kbit/s, 6 Mbit/s, 1.5 Mbit/s, 256 kbit/s\",0.039951,\"data rates 48 kHz sampling frequency, 20-bit word length, 32 kbit/s, 6 Mbit/s, 1.5 Mbit/s, 256 kbit/s\",\"48 kHz sampling frequency, 20-bit word length, 32 kbit/s, 6 Mbit/s, 1.5 Mbit/s, 256 kbit/s data rates\"\\r\\nvariable data rate,\"44.1 kHz to 192 kHz sampling frequency, up to 24-bit word length, , 18 Mbit/s\",0.03993,\"variable data rate 44.1 kHz to 192 kHz sampling frequency, up to 24-bit word length, , 18 Mbit/s\",\"44.1 kHz to 192 kHz sampling frequency, up to 24-bit word length, , 18 Mbit/s variable data rate\"\\r\\npasswords,Multi-factor authentication schemes,0.038787,passwords Multi-factor authentication schemes,Multi-factor authentication schemes passwords\\r\\na one-time password,time-synchronized OTP,0.038787,a one-time password time-synchronized OTP,time-synchronized OTP a one-time password\\r\\nrecorder,lack of field shifting support,0.038178,recorder lack of field shifting support,lack of field shifting support recorder\\r\\nLinks,5000 Limit,0.036699,Links 5000 Limit,5000 Limit Links\\r\\nlimitation,\"40 minutes, a group call, more than two people\",0.033642,\"limitation 40 minutes, a group call, more than two people\",\"40 minutes, a group call, more than two people limitation\"\\r\\npaid subscriptions,\"365 Home, , 15 GB, 5 GB, , 100 GB, 200 GB plans, month 50 GB plan\",0.03014,\"paid subscriptions 365 Home, , 15 GB, 5 GB, , 100 GB, 200 GB plans, month 50 GB plan\",\"365 Home, , 15 GB, 5 GB, , 100 GB, 200 GB plans, month 50 GB plan paid subscriptions\"\\r\\na 5-tier hierarchy,\"Server Group, Client Permissions, Channel Permissions, Channel Groups, Channel Client Permissions\",0.029843,\"a 5-tier hierarchy Server Group, Client Permissions, Channel Permissions, Channel Groups, Channel Client Permissions\",\"Server Group, Client Permissions, Channel Permissions, Channel Groups, Channel Client Permissions a 5-tier hierarchy\"\\r\\nvoicemail messages,\"record conversations, compromise,\",0.029701,\"voicemail messages record conversations, compromise,\",\"record conversations, compromise, voicemail messages\"\\r\\ncapacity,nationwide network 10 Gbit/s,0.029484,capacity nationwide network 10 Gbit/s,nationwide network 10 Gbit/s capacity\\r\\nSkypecasts group,groups of up to 100 people,0.029179,Skypecasts group groups of up to 100 people,groups of up to 100 people Skypecasts group\\r\\nstereo separation,\"1,000 Hz about 20 to 30 dB\",0.027214,\"stereo separation 1,000 Hz about 20 to 30 dB\",\"1,000 Hz about 20 to 30 dB stereo separation\"\\r\\nmessaging,chat,0.026078,messaging chat,chat messaging\\r\\nthe address space,\"a size, 32 bits\",0.025826,\"the address space a size, 32 bits\",\"a size, 32 bits the address space\"\\r\\nNSF\\'s networking initiatives,\"56 kbit/s, 1.5 Mbit/s\",0.024459,\"NSF\\'s networking initiatives 56 kbit/s, 1.5 Mbit/s\",\"56 kbit/s, 1.5 Mbit/s NSF\\'s networking initiatives\"\\r\\na fine-grained automatic response suppression mechanism,Message-ID,0.023861,a fine-grained automatic response suppression mechanism Message-ID,Message-ID a fine-grained automatic response suppression mechanism\\r\\nvoice response,\"hathe UK, large corporations\",0.02279,\"voice response hathe UK, large corporations\",\"hathe UK, large corporations voice response\"\\r\\nfree storage,25 GB free storage,0.020888,free storage 25 GB free storage,25 GB free storage free storage\\r\\nMembers,\"group message,\",0.02043,\"Members group message,\",\"group message, Members\"\\r\\nPolicies Zoom,limitation of 40 minutes,0.018229,Policies Zoom limitation of 40 minutes,limitation of 40 minutes Policies Zoom\\r\\na bass turnover,\"400 Hz, a 10,000 Hz rolloff, \\xe2\\x88\\x9212 dB.\",0.016601,\"a bass turnover 400 Hz, a 10,000 Hz rolloff, \\xe2\\x88\\x9212 dB.\",\"400 Hz, a 10,000 Hz rolloff, \\xe2\\x88\\x9212 dB. a bass turnover\"\\r\\n\"Popular \"\"normal\"\" image formats\",4\\xc3\\x975 camera,0.016479,\"Popular \"\"normal\"\" image formats 4\\xc3\\x975 camera\",\"4\\xc3\\x975 camera Popular \"\"normal\"\" image formats\"\\r\\nThe record diameters,\"nominally 300 mm, 250 mm, 175 mm\",0.014835,\"The record diameters nominally 300 mm, 250 mm, 175 mm\",\"nominally 300 mm, 250 mm, 175 mm The record diameters\"\\r\\nthe transmission mode,300-millisecond leader tone,0.013689,the transmission mode 300-millisecond leader tone,300-millisecond leader tone the transmission mode\\r\\ncloud seeding,\"23 users,large-scale recovery\",0.009075,\"cloud seeding 23 users,large-scale recovery\",\"23 users,large-scale recovery cloud seeding\"\\r\\nheadphone volumes,their normal loudness,0.009075,headphone volumes their normal loudness,their normal loudness headphone volumes\\r\\naudio boards,\"14.4-kbit/s version, 28.8-kbit/s version\",0.005127,\"audio boards 14.4-kbit/s version, 28.8-kbit/s version\",\"14.4-kbit/s version, 28.8-kbit/s version audio boards\"\\r\\n'}"
            ]
          },
          "metadata": {
            "tags": []
          },
          "execution_count": 6
        }
      ]
    },
    {
      "cell_type": "code",
      "metadata": {
        "colab": {
          "base_uri": "https://localhost:8080/",
          "height": 589
        },
        "id": "cfOf2eCJK7sa",
        "outputId": "71dbb670-8a73-4c42-abad-bd5e76e08a4f"
      },
      "source": [
        "#creating the dataframe from the uploaded google colab\n",
        "df = pd.read_csv(io.BytesIO(uploaded['combined_data_webex_teams_zoom.csv']))\n",
        "df"
      ],
      "execution_count": 9,
      "outputs": [
        {
          "output_type": "execute_result",
          "data": {
            "text/html": [
              "<div>\n",
              "<style scoped>\n",
              "    .dataframe tbody tr th:only-of-type {\n",
              "        vertical-align: middle;\n",
              "    }\n",
              "\n",
              "    .dataframe tbody tr th {\n",
              "        vertical-align: top;\n",
              "    }\n",
              "\n",
              "    .dataframe thead th {\n",
              "        text-align: right;\n",
              "    }\n",
              "</style>\n",
              "<table border=\"1\" class=\"dataframe\">\n",
              "  <thead>\n",
              "    <tr style=\"text-align: right;\">\n",
              "      <th></th>\n",
              "      <th>key</th>\n",
              "      <th>value</th>\n",
              "      <th>TF-IDF</th>\n",
              "      <th>key_plus_value</th>\n",
              "      <th>value_plus_key</th>\n",
              "    </tr>\n",
              "  </thead>\n",
              "  <tbody>\n",
              "    <tr>\n",
              "      <th>0</th>\n",
              "      <td>file</td>\n",
              "      <td>be unpacked</td>\n",
              "      <td>0.182538</td>\n",
              "      <td>file be unpacked</td>\n",
              "      <td>be unpacked file</td>\n",
              "    </tr>\n",
              "    <tr>\n",
              "      <th>1</th>\n",
              "      <td>audio boards</td>\n",
              "      <td>14.4-kbit/s version, 28.8-kbit/s version</td>\n",
              "      <td>0.145608</td>\n",
              "      <td>audio boards 14.4-kbit/s version, 28.8-kbit/s ...</td>\n",
              "      <td>14.4-kbit/s version, 28.8-kbit/s version audio...</td>\n",
              "    </tr>\n",
              "    <tr>\n",
              "      <th>2</th>\n",
              "      <td>passwords</td>\n",
              "      <td>the end user, the intended purpose</td>\n",
              "      <td>0.139616</td>\n",
              "      <td>passwords the end user, the intended purpose</td>\n",
              "      <td>the end user, the intended purpose passwords</td>\n",
              "    </tr>\n",
              "    <tr>\n",
              "      <th>3</th>\n",
              "      <td>whiteboarding</td>\n",
              "      <td>desktop sharing, file transfers</td>\n",
              "      <td>0.138964</td>\n",
              "      <td>whiteboarding desktop sharing, file transfers</td>\n",
              "      <td>desktop sharing, file transfers whiteboarding</td>\n",
              "    </tr>\n",
              "    <tr>\n",
              "      <th>4</th>\n",
              "      <td>conferences</td>\n",
              "      <td>up to 15 video participants</td>\n",
              "      <td>0.131616</td>\n",
              "      <td>conferences up to 15 video participants</td>\n",
              "      <td>up to 15 video participants conferences</td>\n",
              "    </tr>\n",
              "    <tr>\n",
              "      <th>...</th>\n",
              "      <td>...</td>\n",
              "      <td>...</td>\n",
              "      <td>...</td>\n",
              "      <td>...</td>\n",
              "      <td>...</td>\n",
              "    </tr>\n",
              "    <tr>\n",
              "      <th>295</th>\n",
              "      <td>The record diameters</td>\n",
              "      <td>nominally 300 mm, 250 mm, 175 mm</td>\n",
              "      <td>0.014835</td>\n",
              "      <td>The record diameters nominally 300 mm, 250 mm,...</td>\n",
              "      <td>nominally 300 mm, 250 mm, 175 mm The record di...</td>\n",
              "    </tr>\n",
              "    <tr>\n",
              "      <th>296</th>\n",
              "      <td>the transmission mode</td>\n",
              "      <td>300-millisecond leader tone</td>\n",
              "      <td>0.013689</td>\n",
              "      <td>the transmission mode 300-millisecond leader tone</td>\n",
              "      <td>300-millisecond leader tone the transmission mode</td>\n",
              "    </tr>\n",
              "    <tr>\n",
              "      <th>297</th>\n",
              "      <td>cloud seeding</td>\n",
              "      <td>23 users,large-scale recovery</td>\n",
              "      <td>0.009075</td>\n",
              "      <td>cloud seeding 23 users,large-scale recovery</td>\n",
              "      <td>23 users,large-scale recovery cloud seeding</td>\n",
              "    </tr>\n",
              "    <tr>\n",
              "      <th>298</th>\n",
              "      <td>headphone volumes</td>\n",
              "      <td>their normal loudness</td>\n",
              "      <td>0.009075</td>\n",
              "      <td>headphone volumes their normal loudness</td>\n",
              "      <td>their normal loudness headphone volumes</td>\n",
              "    </tr>\n",
              "    <tr>\n",
              "      <th>299</th>\n",
              "      <td>audio boards</td>\n",
              "      <td>14.4-kbit/s version, 28.8-kbit/s version</td>\n",
              "      <td>0.005127</td>\n",
              "      <td>audio boards 14.4-kbit/s version, 28.8-kbit/s ...</td>\n",
              "      <td>14.4-kbit/s version, 28.8-kbit/s version audio...</td>\n",
              "    </tr>\n",
              "  </tbody>\n",
              "</table>\n",
              "<p>300 rows × 5 columns</p>\n",
              "</div>"
            ],
            "text/plain": [
              "                       key  ...                                     value_plus_key\n",
              "0                     file  ...                                   be unpacked file\n",
              "1             audio boards  ...  14.4-kbit/s version, 28.8-kbit/s version audio...\n",
              "2                passwords  ...       the end user, the intended purpose passwords\n",
              "3            whiteboarding  ...      desktop sharing, file transfers whiteboarding\n",
              "4              conferences  ...            up to 15 video participants conferences\n",
              "..                     ...  ...                                                ...\n",
              "295   The record diameters  ...  nominally 300 mm, 250 mm, 175 mm The record di...\n",
              "296  the transmission mode  ...  300-millisecond leader tone the transmission mode\n",
              "297          cloud seeding  ...        23 users,large-scale recovery cloud seeding\n",
              "298      headphone volumes  ...            their normal loudness headphone volumes\n",
              "299           audio boards  ...  14.4-kbit/s version, 28.8-kbit/s version audio...\n",
              "\n",
              "[300 rows x 5 columns]"
            ]
          },
          "metadata": {
            "tags": []
          },
          "execution_count": 9
        }
      ]
    },
    {
      "cell_type": "code",
      "metadata": {
        "colab": {
          "base_uri": "https://localhost:8080/"
        },
        "id": "hS8p8DNeM5Zl",
        "outputId": "7d95a47b-149a-4962-878a-350730c01cab"
      },
      "source": [
        "df.key_plus_value"
      ],
      "execution_count": 24,
      "outputs": [
        {
          "output_type": "execute_result",
          "data": {
            "text/plain": [
              "0                                       file be unpacked\n",
              "1      audio boards 14.4-kbit/s version, 28.8-kbit/s ...\n",
              "2           passwords the end user, the intended purpose\n",
              "3          whiteboarding desktop sharing, file transfers\n",
              "4                conferences up to 15 video participants\n",
              "                             ...                        \n",
              "295    The record diameters nominally 300 mm, 250 mm,...\n",
              "296    the transmission mode 300-millisecond leader tone\n",
              "297          cloud seeding 23 users,large-scale recovery\n",
              "298              headphone volumes their normal loudness\n",
              "299    audio boards 14.4-kbit/s version, 28.8-kbit/s ...\n",
              "Name: key_plus_value, Length: 300, dtype: object"
            ]
          },
          "metadata": {
            "tags": []
          },
          "execution_count": 24
        }
      ]
    },
    {
      "cell_type": "code",
      "metadata": {
        "id": "iIZWIt2HLELN"
      },
      "source": [
        "split_words = df.key_plus_value.str.split(' ')"
      ],
      "execution_count": 25,
      "outputs": []
    },
    {
      "cell_type": "code",
      "metadata": {
        "colab": {
          "base_uri": "https://localhost:8080/"
        },
        "id": "yoRi3Q6VLRJ-",
        "outputId": "b8cc5cbb-0654-4001-e26a-9851f49b537a"
      },
      "source": [
        "split_words"
      ],
      "execution_count": 26,
      "outputs": [
        {
          "output_type": "execute_result",
          "data": {
            "text/plain": [
              "0                                   [file, be, unpacked]\n",
              "1      [audio, boards, 14.4-kbit/s, version,, 28.8-kb...\n",
              "2      [passwords, the, end, user,, the, intended, pu...\n",
              "3      [whiteboarding, desktop, sharing,, file, trans...\n",
              "4         [conferences, up, to, 15, video, participants]\n",
              "                             ...                        \n",
              "295    [The, record, diameters, nominally, 300, mm,, ...\n",
              "296    [the, transmission, mode, 300-millisecond, lea...\n",
              "297    [cloud, seeding, 23, users,large-scale, recovery]\n",
              "298        [headphone, volumes, their, normal, loudness]\n",
              "299    [audio, boards, 14.4-kbit/s, version,, 28.8-kb...\n",
              "Name: key_plus_value, Length: 300, dtype: object"
            ]
          },
          "metadata": {
            "tags": []
          },
          "execution_count": 26
        }
      ]
    },
    {
      "cell_type": "code",
      "metadata": {
        "colab": {
          "base_uri": "https://localhost:8080/"
        },
        "id": "KhbdpndSNZ64",
        "outputId": "fe35ee7d-92e8-431b-abda-2c6d40e6138c"
      },
      "source": [
        "for i in split_words:\n",
        "  print(i)"
      ],
      "execution_count": 29,
      "outputs": [
        {
          "output_type": "stream",
          "text": [
            "['file', 'be', 'unpacked']\n",
            "['audio', 'boards', '14.4-kbit/s', 'version,', '28.8-kbit/s', 'version']\n",
            "['passwords', 'the', 'end', 'user,', 'the', 'intended', 'purpose']\n",
            "['whiteboarding', 'desktop', 'sharing,', 'file', 'transfers']\n",
            "['conferences', 'up', 'to', '15', 'video', 'participants']\n",
            "['expiration', 'of', 'ten', 'covered', 'by', 'password']\n",
            "['application', 'sharing', 'shared', 'whiteboard', 'markup,', 'file', 'transfer']\n",
            "['scores', 'players', 'ten', 'displayed', 'onscreen']\n",
            "['special', 'gateways', 'VoIP', 'and', 'video', 'conference', 'clients']\n",
            "['The', 'maximum', 'imprisonment', 'violations,', 'the', 'Computer', 'Fraud', 'and', 'Abuse', 'Act']\n",
            "['video', 'A', 'broadband', 'speed,', '2', 'Mbit/s']\n",
            "['password', 'login', 'time', 'zone', 'or', 'IP', 'address', 'verification']\n",
            "['password', 'of', 'ten', 'via', 'privilege']\n",
            "['The', 'web', 'based', 'platform', 'hosts', 'up', 'to', '5,000', 'participants']\n",
            "['meetings', 'up', 'to', '100', 'devices,', 'a', '40-minute', 'time', 'restriction']\n",
            "['Video', 'conferencing', 'application,', 'Desktop', 'sharing', 'features']\n",
            "['same', 'amount', 'synchronization,', 'real', 'time', 'communication,', 'meetings']\n",
            "['meetings', 'CTS-3000', '-', 'Room', 'system']\n",
            "['BBC', 'website', 'IP', 'address', 'check']\n",
            "['Meet', '200', 'million', 'daily', 'uses,', 'Zoom']\n",
            "['solutions', 'use', 'of', 'one', '-', 'time', 'passwords']\n",
            "['streaming', 'HD', 'video', 'around', '1.5', 'GB,', 'data']\n",
            "['Permissions', 'users', 'contents', 'of', 'a', 'file', 'or', 'folder']\n",
            "['the', 'file', 'size', 'limit', '50', 'MB,', '1', 'MB,', '1', 'million', 'bytes,', '100', 'MB']\n",
            "['cryptographic', 'keys', 'Passwords,', 'disk', 'encryption,', 'Wi-Fi', 'security,', 'high', 'rate', 'guessing']\n",
            "['Shared', 'file', 'access', 'file', 'synchronization,', 'other', 'information', 'synchronization']\n",
            "['one', 'time', 'period', 'one-time', 'password', 'access']\n",
            "['video', 'conference', 'up', 'to', '100', 'participants,', 'a', '40-minute', 'time', 'limit,', 'more', 'than', 'two', 'participants']\n",
            "['group', 'video', 'up', 'to', '50', 'people']\n",
            "['traditional', 'landline', 'audio', 'up', 'to', '125', 'participants']\n",
            "['The', 'system', 'dual', '1080p/60fps', 'live', 'video', 'content,', 'HD', 'Audio,', 'H.264']\n",
            "['participants', 'Desktop', 'sharing,', 'a', 'Windows', 'screen']\n",
            "['Windows', 'Server', '60%,', 'web', 'servers,', 'Linux,', '40%,']\n",
            "['users', '10,000', 'participants']\n",
            "['the', \"user's\", 'mouse', 'a', 'chat', 'interface,', 'desktop', 'sharing']\n",
            "['conference', 'calls', 'screen', 'sharing', '25', 'people', 'a', 'time']\n",
            "['Voice', 'packets,', 'IP', 'networks,', 'fixed', 'maximum', 'capacity']\n",
            "['the', 'password', 'length', 'much', 'more', 'security,', ',', 'one', 'character,', 'the', 'password']\n",
            "['Use', 'up', 'to', '100', 'participants,', 'a', '40-minute', 'time', 'limit,', 'more', 'than', 'two', 'participants']\n",
            "['passwords', 'time', 'attacker']\n",
            "['the', 'live', 'streams', 'extended', 'amounts,', 'time']\n",
            "['the', 'Coloured', 'Book', 'protocols', 'GEC', '4000', 'series', 'switches,', 'up', 'to', '8', 'Mbit/s']\n",
            "['users', 'March,', 'Microsoft,', 'Microsoft', 'Teams']\n",
            "['Contents', '200,000', 'customer,', 'organizations']\n",
            "['platform', 'Webex', 'interactive', 'network']\n",
            "['a', 'shared', 'password', 'another', 'person', 'citation']\n",
            "['live', 'webcast', 'streams', 'up', 'to', '100', 'participants,', '3,000', 'viewers']\n",
            "['desktop', 'operating', 'system', 'around', '76.45%']\n",
            "['calling', 'number', 'of', '50', 'call', 'participants']\n",
            "['Users', 'passwords', 'of', 'symbol']\n",
            "['storage', 'media', 'at', 'least', '3', 'copies,', '2', 'different', 'types']\n",
            "['audio', 'artifacts', 'up', 'to', '30%']\n",
            "['a', 'limit', '5', 'GB,', 'the', 'total', 'ZIP', 'file', 'size', 'limit,', '20', 'GB,', 'up', 'to', '10,000', 'files']\n",
            "['users', 'Zoom,', '400,000', 'users']\n",
            "['security', 'chief', 'Zoom', 'advisor']\n",
            "['real-time', 'transmission', 'real-time,', ',', 'voice,', 'video']\n",
            "['Twitter', 'users', 'a', '140-character', 'limit']\n",
            "['a', 'webcam', 'the', 'Internet,', 'voice,', 'a', 'microphone,', 'video,', ',', 'instant', 'messaging']\n",
            "['addition', 'users', 'passwords', 'bookmarks,', 'history,', 'cookies']\n",
            "['PowerPoint', 'about', '1', 'million', 'copies,', '63', 'percent.97']\n",
            "['jeweled', 'styli', 'Audio', 'response,', '8,000', 'Hz']\n",
            "['Rooms', 'limit', 'of', '50', 'participant']\n",
            "['nationalwide', 'access', 'low', 'cost']\n",
            "['Zoom', 'users', 'up', 'to', '1,000', 'attendees,']\n",
            "['chat', 'up', 'to', '10', 'users']\n",
            "['Control', 'system', 'disambiguation']\n",
            "['user', 'messages', 'multiple', 'paths,', 'any', 'two', 'points']\n",
            "['music', '3', '1⁄2', 'minutes,', 'a', '10-inch', '78', 'rpm', 'record,']\n",
            "['the', 'total', 'playing', 'time', 'up', 'to', '30', 'minutes,', 'side,', 'about', '22', 'minutes']\n",
            "['no', 'single', 'point', 'Internet', 'traffic']\n",
            "['audible', 'frequencies', 'about', '20', 'Hz']\n",
            "['passwords', 'biometric', 'identifiers']\n",
            "['recorder', 'lack', 'of', 'field', 'shifting', 'support']\n",
            "['the', 'size', 'closed', 'captioning', 'text']\n",
            "['Links', '5000', 'Limit']\n",
            "['ideas', 'all', 'team', 'efforts,', 'team', 'method,']\n",
            "['phones', 'The', '180', 'model']\n",
            "['A', 'DNS', 'zone', 'administrative', 'choices,', 'the', 'zone', 'manager']\n",
            "['paid', 'subscriptions', '365', 'Home,', ',', '15', 'GB,', '5', 'GB,', ',', '100', 'GB,', '200', 'GB', 'plans,', 'month', '50', 'GB', 'plan']\n",
            "['the', 'calculation', '500', 'kbit/s,3', 'hours,', '3,000', 'viewers']\n",
            "['capacity', 'nationwide', 'network', '10', 'Gbit/s']\n",
            "['record', 'wear', 'Distortion']\n",
            "['special', 'roll', 'film', 'holders', 'generally', '120/220', 'size,']\n",
            "['a', 'fine-grained', 'automatic', 'response', 'suppression', 'mechanism', 'Message-ID']\n",
            "['the', 'width', '10', 'to', '15', 'minutes']\n",
            "['voice', 'response', 'hathe', 'UK,', 'large', 'corporations']\n",
            "['free', 'storage', '25', 'GB', 'free', 'storage']\n",
            "['Policies', 'Zoom', 'limitation', 'of', '40', 'minutes']\n",
            "['a', 'bass', 'turnover', '400', 'Hz,', 'a', '10,000', 'Hz', 'rolloff,', '−12', 'dB.']\n",
            "['frequencies', 'about', '250hz', ',microphone', 'signal,', 'the', 'recording', 'head']\n",
            "['their', 'accounts', 'forums', 'members']\n",
            "['The', 'record', 'diameters', 'nominally', '300', 'mm,', '250', 'mm,', '175', 'mm']\n",
            "['cloud', 'seeding', '23', 'users,large-scale', 'recovery']\n",
            "['headphone', 'volumes', 'their', 'normal', 'loudness']\n",
            "['voice', 'low-value,', 'high-volume']\n",
            "['Microsoft', 'Classroom', 'Office', '365', 'Education,', 'Office']\n",
            "['sample', '1000', 'or', 'more', 'keystrokes,']\n",
            "['the', 'study', 'a', 'factor,', ',', 'entrepreneurship']\n",
            "['sensor', 'the', 'LED-Backlit']\n",
            "['IDC', '80', 'million', 'units']\n",
            "['hosted', 'versions', 'Cisco', 'Solution,', 'Cisco', 'Unified', 'Mobility,Cisco', 'Webex', 'Meeting', 'Center.']\n",
            "['the', 'file', 'size', 'limit', '50', 'MB,', '1', 'MB,', '1', 'million', 'bytes,', '100', 'MB,', 'file']\n",
            "['remote', 'control', 'unequaled', 'video', 'quality,', 'video', 'relay', 'services']\n",
            "['WebEx', 'Meeting', 'Center', 'a', '1000-person', 'meeting', 'capacity']\n",
            "['a', 'limit', '5', 'GB,', 'the', 'total', 'ZIP', 'file', 'size', 'limit,', '20', 'GB,', 'up', 'to', '10,000', 'files']\n",
            "['video', 'conference', 'up', 'to', '100', 'participants,', 'a', '40-minute', 'time', 'limit,', 'more', 'than', 'two', 'participants']\n",
            "['Video', 'conferencing', 'application,', 'Desktop', 'sharing', 'features']\n",
            "['whiteboarding', 'desktop', 'sharing,', 'file', 'transfers']\n",
            "['The', 'system', 'dual', '1080p/60fps', 'live', 'video', 'content,', 'HD', 'Audio,', 'H.264']\n",
            "['Shared', 'file', 'access', 'file', 'synchronization,', 'other', 'information', 'synchronization']\n",
            "['passwords', 'the', 'end', 'user,', 'the', 'intended', 'purpose']\n",
            "['password', 'of', 'ten', 'via', 'privilege']\n",
            "['same', 'amount', 'synchronization,', 'real', 'time', 'communication,', 'meetings']\n",
            "['one', 'time', 'period', 'one-time', 'password', 'access']\n",
            "['the', 'password', 'length', 'much', 'more', 'security,', ',', 'one', 'character,', 'the', 'password']\n",
            "['time', 'limit', 'Cisco', 'Webex,', '50', 'minutes,', '24', 'hours,', 'registered', 'clients']\n",
            "['cryptographic', 'keys', 'Passwords,', 'disk', 'encryption,', 'Wi-Fi', 'security,', 'high', 'rate', 'guessing']\n",
            "['the', \"user's\", 'mouse', 'a', 'chat', 'interface,', 'desktop', 'sharing']\n",
            "['password', 'login', 'time', 'zone', 'or', 'IP', 'address', 'verification']\n",
            "['Voice', 'packets,', 'IP', 'networks,', 'fixed', 'maximum', 'capacity']\n",
            "['solutions', 'use', 'of', 'one', '-', 'time', 'passwords']\n",
            "['the', 'Coloured', 'Book', 'protocols', 'GEC', '4000', 'series', 'switches,', 'up', 'to', '8', 'Mbit/s']\n",
            "['storage', 'media', 'at', 'least', '3', 'copies,', '2', 'different', 'types']\n",
            "['a', 'webcam', 'the', 'Internet,', 'voice,', 'a', 'microphone,', 'video,', ',', 'instant', 'messaging']\n",
            "['participants', 'Desktop', 'sharing,', 'a', 'Windows', 'screen']\n",
            "['expiration', 'of', 'ten', 'covered', 'by', 'password']\n",
            "['platforms', 'learning', 'remote', 'Cisco', 'Webex']\n",
            "['real-time', 'transmission', 'real-time,', ',', 'voice,', 'video']\n",
            "['a', 'shared', 'password', 'another', 'person', 'citation']\n",
            "['Permissions', 'users', 'contents', 'of', 'a', 'file', 'or', 'folder']\n",
            "['paid', 'subscriptions', '365', 'Home,', ',', '15', 'GB,', '5', 'GB,', ',', '100', 'GB,', '200', 'GB', 'plans,', 'month', '50', 'GB', 'plan']\n",
            "['Webex', 'Meetings', 'Webex', 'Teams']\n",
            "['networks', 'chat', 'compatible', 'Cisco', 'WebEx']\n",
            "['security', 'tokens', 'key', 'logging', 'attack']\n",
            "['passwords', 'numerous', 'accounts,', 'encrypted', 'form']\n",
            "['case', 'files', 'kind', 'of', 'flag', 'in', 'the', 'file']\n",
            "['disks', 'files', 'they', 'form', 'of', 'non', '-', 'volatile']\n",
            "['backward', 'compatibility', 'smaller', 'file', 'sizes']\n",
            "['limitation', '40', 'minutes,', 'a', 'group', 'call,', 'more', 'than', 'two', 'people']\n",
            "['Some', 'users', 'more', 'or', 'less', 'random', 'passwords']\n",
            "['limit', 'singers', 'limit', 'time', 'of', '\\u200b3', '1⁄2', 'minutes']\n",
            "['Cisco', 'OpenDNS,', 'Webex']\n",
            "['a', 'single', 'host', 'up', 'to', '100', 'participants,', 'the', '250-caller', 'limit,', 'users169,', 'the', '25-participant', 'limit']\n",
            "['audio', 'frequency', 'range', 'roughly', '20', 'to', '20,000', 'Hz']\n",
            "['Shared', 'access', 'time', 'synchronization']\n",
            "['tape', 'a', 'scheduled', 'time']\n",
            "['the', 'noise', 'level', '1,000', 'Hz,', 'audio', 'frequencies,', '10,000', 'Hz,', 'the', 'delicate', 'sibilant', 'sounds']\n",
            "['the', 'password', 'Standard', 'cryptographic', 'hashes,', 'the', 'Secure', 'Hash', 'Algorithm']\n",
            "['passwords', 'risk', 'of', 'a', 'security', 'breach']\n",
            "['requesting', 'the', 'very', 'least', 'a', 'username,', 'an', 'alias,', 'password,', 'email,', 'validation']\n",
            "['password', 'number', 'sign']\n",
            "['the', 'presenter', 'desktop', 'sharing/application', 'sharing']\n",
            "['a', '5-byte', 'routing', 'header', 'voice', 'streams,', '48-byte', 'chunks']\n",
            "['a', 'mathematical', 'algorithm', 'new', 'password,', 'a', 'challenge,', 'a', 'random', 'number']\n",
            "['browser', 'encryption,', 'all', 'users8,', 'Noise,', 'audio', 'filter']\n",
            "['mute', 'people', 'host', 'number', '5']\n",
            "['the', 'services', 'small', 'screens']\n",
            "['offline', 'attacks', 'multiple', 'user', 'accounts']\n",
            "['maximum', 'number', 'WebEx', 'founder', 'Subrah', 'Iyar,', 'former', 'Cisco', 'SVP']\n",
            "['WebEx', 'public', 'of', 'fering', 'in', 'July', '2000.2']\n",
            "['confidential', 'data', 'encryption', 'layer', ',', 'passwords,', 'banking', 'information']\n",
            "['traditional', 'landline', 'audio', 'up', 'to', '125', 'participants']\n",
            "['Rooms', 'limit', 'of', '50', 'participant']\n",
            "['group', 'video', 'up', 'to', '50', 'people']\n",
            "['the', 'size', 'closed', 'captioning', 'text']\n",
            "['The', 'record', 'diameters', 'nominally', '300', 'mm,', '250', 'mm,', '175', 'mm']\n",
            "['voice', 'response', 'hathe', 'UK,', 'large', 'corporations']\n",
            "['platform', 'Webex', 'interactive', 'network']\n",
            "['music', '3', '1⁄2', 'minutes,', 'a', '10-inch', '78', 'rpm', 'record,']\n",
            "['recorder', 'lack', 'of', 'field', 'shifting', 'support']\n",
            "['a', 'fine-grained', 'automatic', 'response', 'suppression', 'mechanism', 'Message-ID']\n",
            "['addition', 'users', 'passwords', 'bookmarks,', 'history,', 'cookies']\n",
            "['audible', 'frequencies', 'about', '20', 'Hz']\n",
            "['conversational', 'gestures', \"user's\", 'own', 'voice']\n",
            "['WebEx', 'Cisco', 'Systems', '1995']\n",
            "['a', 'gateway', 'IP', 'systems']\n",
            "['Popular', '\"normal\"', 'image', 'formats', '4×5', 'camera']\n",
            "['voicemail', 'messages', 'record', 'conversations,', 'compromise,']\n",
            "['audio', 'webcasting,', '(20,000', 'plus)', 'audiences']\n",
            "['Members', 'group', 'message,']\n",
            "['Twitter', 'users', 'a', '140-character', 'limit']\n",
            "['Links', '5000', 'Limit']\n",
            "['free', 'storage', '25', 'GB', 'free', 'storage']\n",
            "['Policies', 'Zoom', 'limitation', 'of', '40', 'minutes']\n",
            "['a', 'bass', 'turnover', '400', 'Hz,', 'a', '10,000', 'Hz', 'rolloff,', '−12', 'dB.']\n",
            "['no', 'single', 'point', 'Internet', 'traffic']\n",
            "['cloud', 'seeding', '23', 'users,large-scale', 'recovery']\n",
            "['headphone', 'volumes', 'their', 'normal', 'loudness']\n",
            "['jeweled', 'styli', 'Audio', 'response,', '8,000', 'Hz']\n",
            "['passwords', 'Multi-factor', 'authentication', 'schemes']\n",
            "['a', 'one-time', 'password', 'time-synchronized', 'OTP']\n",
            "['Users', 'passwords', 'of', 'symbol']\n",
            "['passwords', 'biometric', 'identifiers']\n",
            "['passwords', 'time', 'attacker']\n",
            "['file', 'be', 'unpacked']\n",
            "['voice', 'low-value,', 'high-volume']\n",
            "['the', 'low-end', 'limit', '30', 'kHz', 'gentle', 'roll-off']\n",
            "['The', 'product', 'a', '14.4-kbit/s', 'version,', '28.8-kbit/s,', 'version']\n",
            "['POS', 'STM16', '-', 'STM64']\n",
            "['the', 'increased', 'storage', 'at', 'least', '12', 'months']\n",
            "['disks', 'files', 'volatile']\n",
            "['case', 'files', 'kind', 'of', 'flag', 'in', 'the', 'file']\n",
            "['a', 'gateway', 'IP', 'systems']\n",
            "['Microsoft', 'Classroom', 'Office', '365', 'Education,', 'Office']\n",
            "['Meetings', 'Microsoft', 'Teams']\n",
            "['passwords', 'the', 'end', 'user,', 'the', 'intended', 'purpose']\n",
            "['whiteboarding', 'desktop', 'sharing,', 'file', 'transfers']\n",
            "['conferences', 'up', 'to', '15', 'video', 'participants']\n",
            "['expiration', 'of', 'ten', 'covered', 'by', 'password']\n",
            "['cap', '1', 'TB', '=', '1000', 'billion', 'bytes']\n",
            "['special', 'gateways', 'VoIP', 'and', 'video', 'conference', 'clients']\n",
            "['access', 'Microsoft', '365', 'App']\n",
            "['passwords', 'numerous', 'accounts,', 'encrypted', 'form']\n",
            "['remote', 'control', 'unequaled', 'video', 'quality,', 'video', 'relay', 'services']\n",
            "['high', 'aggregate', 'capacity', 'up', 'to', '1.6', 'Tbit/s,', 'a', 'high', '40', 'Gbit/s', 'bitrate']\n",
            "['the', 'file', 'size', 'limit', '50', 'MB,', '1', 'MB,', '1', 'million', 'bytes,', '100', 'MB,', 'file']\n",
            "['maximum', 'number', '400,000', 'users']\n",
            "['password', 'of', 'ten', 'via', 'privilege']\n",
            "['meetings', 'up', 'to', '100', 'devices,', 'a', '40-minute', 'time', 'restriction']\n",
            "['security', 'tokens', 'key', 'logging', 'attack']\n",
            "['Video', 'conferencing', 'application,', 'Desktop', 'sharing', 'features']\n",
            "['same', 'amount', 'synchronization,', 'real', 'time', 'communication,', 'meetings']\n",
            "['meetings', 'CTS-3000', '-', 'Room', 'system']\n",
            "['access', 'Microsoft', '365', 'Personal,', 'formerly', 'Office', '365', 'Personal']\n",
            "['solutions', 'use', 'of', 'one', '-', 'time', 'passwords']\n",
            "['backward', 'compatibility', 'smaller', 'file', 'sizes']\n",
            "['Permissions', 'users', 'contents', 'of', 'a', 'file', 'or', 'folder']\n",
            "['the', 'file', 'size', 'limit', '50', 'MB,', '1', 'MB,', '1', 'million', 'bytes,', '100', 'MB']\n",
            "['cryptographic', 'keys', 'Passwords,', 'disk', 'encryption,', 'Wi-Fi', 'security,', 'high', 'rate', 'guessing']\n",
            "['Dolby', 'Noise', 'Reduction', 'the', 'Dolby', '301', 'unit']\n",
            "['sizes', 'screen', 'at', 'least', '140', 'millimetres']\n",
            "['Shared', 'file', 'access', 'file', 'synchronization,', 'other', 'information', 'synchronization']\n",
            "['one', 'time', 'period', 'one-time', 'password', 'access']\n",
            "['video', 'conference', 'up', 'to', '100', 'participants,', 'a', '40-minute', 'time', 'limit,', 'more', 'than', 'two', 'participants']\n",
            "['The', 'system', 'dual', '1080p/60fps', 'live', 'video', 'content,', 'HD', 'Audio,', 'H.264']\n",
            "['participants', 'Desktop', 'sharing,', 'a', 'Windows', 'screen']\n",
            "['Windows', 'Server', '60%,', 'web', 'servers,', 'Linux,', '40%,']\n",
            "['users', '10,000', 'participants']\n",
            "['the', \"user's\", 'mouse', 'a', 'chat', 'interface,', 'desktop', 'sharing']\n",
            "['Voice', 'packets,', 'IP', 'networks,', 'fixed', 'maximum', 'capacity']\n",
            "['the', 'password', 'length', 'much', 'more', 'security,', ',', 'one', 'character,', 'the', 'password']\n",
            "['networks', 'chat', 'compatible', 'Cisco', 'WebEx']\n",
            "['the', 'Coloured', 'Book', 'protocols', 'GEC', '4000', 'series', 'switches,', 'up', 'to', '8', 'Mbit/s']\n",
            "['users', 'March,', 'Microsoft,', 'Microsoft', 'Teams']\n",
            "['Contents', '200,000', 'customer,', 'organizations']\n",
            "['platform', 'Webex', 'interactive', 'network']\n",
            "['a', 'shared', 'password', 'another', 'person', 'citation']\n",
            "['a', 'mathematical', 'algorithm', 'new', 'password,', 'a', 'challenge,', 'a', 'random', 'number']\n",
            "['audio', 'webcasting,', '(20,000', 'plus)', 'audiences']\n",
            "['desktop', 'operating', 'system', 'around', '76.45%']\n",
            "['time', '30', 'cm', 'diameter', 'flexible', 'plastic', 'disc']\n",
            "['time', 'limit', 'Cisco', 'Webex,', '50', 'minutes,', '24', 'hours,', 'registered', 'clients']\n",
            "['storage', 'media', 'at', 'least', '3', 'copies,', '2', 'different', 'types']\n",
            "['a', 'limit', '5', 'GB,', 'the', 'total', 'ZIP', 'file', 'size', 'limit,', '20', 'GB,', 'up', 'to', '10,000', 'files']\n",
            "['maximum', 'attendance', 'only', '120', 'attendees']\n",
            "['security', 'chief', 'Zoom', 'advisor']\n",
            "['real-time', 'transmission', 'real-time,', ',', 'voice,', 'video']\n",
            "['e-mail', 'Microsoft', '365', 'Business', 'Basic']\n",
            "['Twitter', 'users', 'a', '140-character', 'limit']\n",
            "['a', 'webcam', 'the', 'Internet,', 'voice,', 'a', 'microphone,', 'video,', ',', 'instant', 'messaging']\n",
            "['browser', 'encryption,', 'all', 'users8,', 'Noise,', 'audio', 'filter']\n",
            "['addition', 'users', 'passwords', 'bookmarks,', 'history,', 'cookies']\n",
            "['mute', 'people', 'host', 'number', '5']\n",
            "['the', 'services', 'small', 'screens']\n",
            "['jeweled', 'styli', 'Audio', 'response,', '8,000', 'Hz']\n",
            "['Rooms', 'limit', 'of', '50', 'participant']\n",
            "['offline', 'attacks', 'multiple', 'user', 'accounts']\n",
            "['Google', 'Hangouts', 'ore', 'than', '150', 'people']\n",
            "['music', '3', '1⁄2', 'minutes,', 'a', '10-inch', '78', 'rpm', 'record,']\n",
            "['conversational', 'gestures', \"user's\", 'own', 'voice']\n",
            "['no', 'single', 'point', 'Internet', 'traffic']\n",
            "['audible', 'frequencies', 'about', '20', 'Hz']\n",
            "['data', 'rates', '48', 'kHz', 'sampling', 'frequency,', '20-bit', 'word', 'length,', '32', 'kbit/s,', '6', 'Mbit/s,', '1.5', 'Mbit/s,', '256', 'kbit/s']\n",
            "['variable', 'data', 'rate', '44.1', 'kHz', 'to', '192', 'kHz', 'sampling', 'frequency,', 'up', 'to', '24-bit', 'word', 'length,', ',', '18', 'Mbit/s']\n",
            "['passwords', 'Multi-factor', 'authentication', 'schemes']\n",
            "['a', 'one-time', 'password', 'time-synchronized', 'OTP']\n",
            "['recorder', 'lack', 'of', 'field', 'shifting', 'support']\n",
            "['Links', '5000', 'Limit']\n",
            "['limitation', '40', 'minutes,', 'a', 'group', 'call,', 'more', 'than', 'two', 'people']\n",
            "['paid', 'subscriptions', '365', 'Home,', ',', '15', 'GB,', '5', 'GB,', ',', '100', 'GB,', '200', 'GB', 'plans,', 'month', '50', 'GB', 'plan']\n",
            "['a', '5-tier', 'hierarchy', 'Server', 'Group,', 'Client', 'Permissions,', 'Channel', 'Permissions,', 'Channel', 'Groups,', 'Channel', 'Client', 'Permissions']\n",
            "['voicemail', 'messages', 'record', 'conversations,', 'compromise,']\n",
            "['capacity', 'nationwide', 'network', '10', 'Gbit/s']\n",
            "['Skypecasts', 'group', 'groups', 'of', 'up', 'to', '100', 'people']\n",
            "['stereo', 'separation', '1,000', 'Hz', 'about', '20', 'to', '30', 'dB']\n",
            "['messaging', 'chat']\n",
            "['the', 'address', 'space', 'a', 'size,', '32', 'bits']\n",
            "[\"NSF's\", 'networking', 'initiatives', '56', 'kbit/s,', '1.5', 'Mbit/s']\n",
            "['a', 'fine-grained', 'automatic', 'response', 'suppression', 'mechanism', 'Message-ID']\n",
            "['voice', 'response', 'hathe', 'UK,', 'large', 'corporations']\n",
            "['free', 'storage', '25', 'GB', 'free', 'storage']\n",
            "['Members', 'group', 'message,']\n",
            "['Policies', 'Zoom', 'limitation', 'of', '40', 'minutes']\n",
            "['a', 'bass', 'turnover', '400', 'Hz,', 'a', '10,000', 'Hz', 'rolloff,', '−12', 'dB.']\n",
            "['Popular', '\"normal\"', 'image', 'formats', '4×5', 'camera']\n",
            "['The', 'record', 'diameters', 'nominally', '300', 'mm,', '250', 'mm,', '175', 'mm']\n",
            "['the', 'transmission', 'mode', '300-millisecond', 'leader', 'tone']\n",
            "['cloud', 'seeding', '23', 'users,large-scale', 'recovery']\n",
            "['headphone', 'volumes', 'their', 'normal', 'loudness']\n",
            "['audio', 'boards', '14.4-kbit/s', 'version,', '28.8-kbit/s', 'version']\n"
          ],
          "name": "stdout"
        }
      ]
    },
    {
      "cell_type": "code",
      "metadata": {
        "colab": {
          "base_uri": "https://localhost:8080/"
        },
        "id": "0QlWQ8OPMaLu",
        "outputId": "a066f5ae-834c-4f31-f215-eda6df7d6478"
      },
      "source": [
        "sum([len(i) for i in split_words])"
      ],
      "execution_count": 28,
      "outputs": [
        {
          "output_type": "execute_result",
          "data": {
            "text/plain": [
              "2066"
            ]
          },
          "metadata": {
            "tags": []
          },
          "execution_count": 28
        }
      ]
    },
    {
      "cell_type": "code",
      "metadata": {
        "id": "Xy6ytbYCZD-2"
      },
      "source": [
        "#removing stopwords and numbers from the sentences\n",
        "english_stop_words = stopwords.words('english')\n",
        "def preprocess_data(__texts__):\n",
        "  __texts__ = __texts__.lower()\n",
        "  __texts__ = re.sub('[^a-zA-Z]', ' ', __texts__ )\n",
        "  __texts__ = re.sub(r'\\s+', ' ', __texts__)\n",
        "\n",
        "  # Preparing the dataset\n",
        "  #all_sentences = nltk.sent_tokenize(__texts__)\n",
        "  all_words = [nltk.word_tokenize(word) for word in __texts__.split(' ')]\n",
        "  # Removing Stop Words\n",
        "  for i in range(len(all_words)):\n",
        "      all_words[i] = [w for w in all_words[i] if w not in english_stop_words]\n",
        "  return all_words"
      ],
      "execution_count": 41,
      "outputs": []
    },
    {
      "cell_type": "code",
      "metadata": {
        "id": "CUw8WwNvZmJF"
      },
      "source": [
        "#converting column in a df to string\n",
        "#dataframe['column_name']=dataframe['column_name'].apply(str)"
      ],
      "execution_count": null,
      "outputs": []
    },
    {
      "cell_type": "code",
      "metadata": {
        "id": "up7Suy1haJ67"
      },
      "source": [
        ""
      ],
      "execution_count": null,
      "outputs": []
    }
  ]
}